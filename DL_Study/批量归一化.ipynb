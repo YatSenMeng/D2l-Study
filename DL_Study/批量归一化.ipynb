{
 "cells": [
  {
   "cell_type": "markdown",
   "id": "be115abb",
   "metadata": {},
   "source": [
    "### 批量归一化\n",
    "- 固定小批量里面的均值和方差\n",
    "- 可学习的参数r和b\n",
    "\n",
    "### 作用\n",
    "- 可以加速收敛速度，但一般不改变模型精度"
   ]
  },
  {
   "cell_type": "code",
   "execution_count": 2,
   "id": "72cf8e10",
   "metadata": {},
   "outputs": [
    {
     "ename": "SyntaxError",
     "evalue": "unexpected EOF while parsing (Temp/ipykernel_15288/2405665037.py, line 5)",
     "output_type": "error",
     "traceback": [
      "\u001b[1;36m  File \u001b[1;32m\"C:\\Users\\admin\\AppData\\Local\\Temp/ipykernel_15288/2405665037.py\"\u001b[1;36m, line \u001b[1;32m5\u001b[0m\n\u001b[1;33m    def batch_norm(X, gamma, beta, moving_mean, moving_var, eps, moment):\u001b[0m\n\u001b[1;37m                                                                         ^\u001b[0m\n\u001b[1;31mSyntaxError\u001b[0m\u001b[1;31m:\u001b[0m unexpected EOF while parsing\n"
     ]
    }
   ],
   "source": [
    "import torch\n",
    "from torch import nn\n",
    "from d2l import torch as d2l\n",
    "\n",
    "def batch_/8norm(X, gamma, beta, moving_mean, moving_var, eps, moment):\n",
    "    if not"
   ]
  },
  {
   "cell_type": "code",
   "execution_count": null,
   "id": "542b23c1",
   "metadata": {},
   "outputs": [],
   "source": []
  }
 ],
 "metadata": {
  "kernelspec": {
   "display_name": "Python 3 (ipykernel)",
   "language": "python",
   "name": "python3"
  },
  "language_info": {
   "codemirror_mode": {
    "name": "ipython",
    "version": 3
   },
   "file_extension": ".py",
   "mimetype": "text/x-python",
   "name": "python",
   "nbconvert_exporter": "python",
   "pygments_lexer": "ipython3",
   "version": "3.8.12"
  }
 },
 "nbformat": 4,
 "nbformat_minor": 5
}
