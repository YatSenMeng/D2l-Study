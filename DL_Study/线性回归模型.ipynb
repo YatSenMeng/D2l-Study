{
 "cells": [
  {
   "cell_type": "markdown",
   "id": "66c31757",
   "metadata": {},
   "source": [
    "### 从零开始实现线性回归模型"
   ]
  },
  {
   "cell_type": "code",
   "execution_count": 82,
   "id": "b2d06fac",
   "metadata": {},
   "outputs": [],
   "source": [
    "import torch\n",
    "import random"
   ]
  },
  {
   "cell_type": "markdown",
   "id": "dcb9370d",
   "metadata": {},
   "source": [
    "#### 生成数据"
   ]
  },
  {
   "cell_type": "code",
   "execution_count": 91,
   "id": "bcfc3f11",
   "metadata": {},
   "outputs": [
    {
     "name": "stdout",
     "output_type": "stream",
     "text": [
      "tensor([0.1516, 0.6281]) \n",
      " tensor([2.3601])\n"
     ]
    }
   ],
   "source": [
    "def get_data(w, b, num_examples):\n",
    "    X = torch.normal(0,1, (num_examples, len(w)))\n",
    "    y = torch.matmul(X,w)+ b #两个矩阵之间的乘法(1000,2) * (1,2)\n",
    "    y += torch.normal(0,0.01, y.shape)\n",
    "    return X, y.reshape((-1,1))\n",
    "\n",
    "true_w = torch.tensor([2,-3.4])\n",
    "true_b = 4.2\n",
    "features, labels = get_data(true_w, true_b, 1000)\n",
    "print(features[0],'\\n', labels[0])"
   ]
  },
  {
   "cell_type": "markdown",
   "id": "142c97de",
   "metadata": {},
   "source": [
    "#### 读取数据集"
   ]
  },
  {
   "cell_type": "code",
   "execution_count": 92,
   "id": "4bcdaaa2",
   "metadata": {
    "scrolled": true
   },
   "outputs": [
    {
     "name": "stdout",
     "output_type": "stream",
     "text": [
      "tensor([[-0.2204, -0.0670],\n",
      "        [ 0.2235,  1.5720],\n",
      "        [-0.6561, -0.8191],\n",
      "        [-0.8057,  0.6768],\n",
      "        [ 1.4756,  0.2708],\n",
      "        [ 0.8840, -0.6264],\n",
      "        [-0.6116,  0.2095],\n",
      "        [-0.0490,  1.8906],\n",
      "        [ 0.8388, -0.0773],\n",
      "        [ 0.0875, -0.0455]]) \n",
      " tensor([[ 3.9812],\n",
      "        [-0.6827],\n",
      "        [ 5.6876],\n",
      "        [ 0.2835],\n",
      "        [ 6.2316],\n",
      "        [ 8.1123],\n",
      "        [ 2.2607],\n",
      "        [-2.3209],\n",
      "        [ 6.1560],\n",
      "        [ 4.5228]])\n"
     ]
    }
   ],
   "source": [
    "#定义一个小批量的iter数据集读取器来获取部分数据\n",
    "def data_iter(batch_size, features, labels):\n",
    "    num_examples = len(features)\n",
    "    indices = list(range(num_examples))\n",
    "    random.shuffle(indices) #打乱标签\n",
    "    \n",
    "    for i in range(0, num_examples, batch_size):\n",
    "        batch_indices = torch.tensor(\n",
    "            indices[i: min(i + batch_size, num_examples)])\n",
    "        yield features[batch_indices], labels[batch_indices]\n",
    "    \n",
    "batch_size = 10\n",
    "for X, y in data_iter(batch_size, features, labels):\n",
    "    print(X, '\\n', y)\n",
    "    break"
   ]
  },
  {
   "cell_type": "markdown",
   "id": "c7701a68",
   "metadata": {},
   "source": [
    "### 初始化参数 "
   ]
  },
  {
   "cell_type": "code",
   "execution_count": 85,
   "id": "bd04bf4f",
   "metadata": {},
   "outputs": [],
   "source": [
    "w = torch.normal(0,0.01, size=(2,1), requires_grad=True)\n",
    "b = torch.zeros(1, requires_grad=True)"
   ]
  },
  {
   "cell_type": "markdown",
   "id": "43a047a6",
   "metadata": {},
   "source": [
    "### 定义模型 "
   ]
  },
  {
   "cell_type": "code",
   "execution_count": 86,
   "id": "dd9190a8",
   "metadata": {},
   "outputs": [],
   "source": [
    "def linreg(X, w, b):\n",
    "    #线性回归模型\n",
    "    return torch.matmul(X,w)+b"
   ]
  },
  {
   "cell_type": "markdown",
   "id": "0fca9bed",
   "metadata": {},
   "source": [
    "### 定义损失函数 "
   ]
  },
  {
   "cell_type": "code",
   "execution_count": 93,
   "id": "bf71f05a",
   "metadata": {},
   "outputs": [],
   "source": [
    "def squared_loss(y_hat, y):\n",
    "    return (y_hat - y.reshape(y_hat.shape)) ** 2 / 2"
   ]
  },
  {
   "cell_type": "markdown",
   "id": "3ef5d6e8",
   "metadata": {},
   "source": [
    "### 定义优化算法（梯度下降法） "
   ]
  },
  {
   "cell_type": "code",
   "execution_count": 94,
   "id": "ce269154",
   "metadata": {},
   "outputs": [],
   "source": [
    "def sgd(params, lr, batch_size):\n",
    "    with torch.no_grad(): #梯度下降算法\n",
    "        for param in params:\n",
    "            param -= lr * param.grad/batch_size\n",
    "            param.grad.zero_()"
   ]
  },
  {
   "cell_type": "markdown",
   "id": "4093dc2f",
   "metadata": {},
   "source": [
    "### 训练 "
   ]
  },
  {
   "cell_type": "code",
   "execution_count": 98,
   "id": "3b3a7428",
   "metadata": {},
   "outputs": [
    {
     "name": "stdout",
     "output_type": "stream",
     "text": [
      "epoch1, loss0.000052\n",
      "epoch2, loss0.000052\n",
      "epoch3, loss0.000052\n"
     ]
    }
   ],
   "source": [
    "lr = 0.03\n",
    "num_epochs = 3\n",
    "net = linreg\n",
    "loss = squared_loss\n",
    "\n",
    "for epoch in range(num_epochs):\n",
    "    for X, y in data_iter(batch_size, features, labels):\n",
    "        # 因为l形状是(batch_size,1)，而不是一个标量。l中的所有元素被加到一起，\n",
    "        # 并以此计算关于[w,b]的梯度\n",
    "        l = loss(net(X, w, b), y)\n",
    "        l.sum().backward()\n",
    "        sgd([w, b], lr, batch_size)\n",
    "    with torch.no_grad():\n",
    "        train_l = loss(net(features, w, b), labels)\n",
    "        print(f'epoch{epoch + 1}, loss{float(train_l.mean()):f}')"
   ]
  },
  {
   "cell_type": "code",
   "execution_count": 99,
   "id": "c8b32295",
   "metadata": {},
   "outputs": [
    {
     "name": "stdout",
     "output_type": "stream",
     "text": [
      "w的估计误差: tensor([ 0.0003, -0.0003], grad_fn=<SubBackward0>)\n",
      "b的估计误差: tensor([-0.0005], grad_fn=<RsubBackward1>)\n"
     ]
    }
   ],
   "source": [
    "print(f'w的估计误差: {true_w - w.reshape(true_w.shape)}')\n",
    "print(f'b的估计误差: {true_b - b}')"
   ]
  },
  {
   "cell_type": "markdown",
   "id": "efd9f689",
   "metadata": {},
   "source": [
    "## 简洁实现"
   ]
  },
  {
   "cell_type": "code",
   "execution_count": 110,
   "id": "9e7101cb",
   "metadata": {},
   "outputs": [],
   "source": [
    "def get_data(num_examples, w, b):\n",
    "    X = torch.normal(0, 1, (num_examples, len(w)))\n",
    "    y = torch.matmul(X,w) + b\n",
    "    y += torch.normal(0, 0.01, y.shape)\n",
    "    return X, y.reshape((-1,1))\n",
    "\n",
    "true_w = torch.tensor([2, -2.4])\n",
    "true_b = 5\n",
    "features, labels = get_data(1000, true_w, true_b)"
   ]
  },
  {
   "cell_type": "code",
   "execution_count": null,
   "id": "e428122c",
   "metadata": {},
   "outputs": [],
   "source": []
  }
 ],
 "metadata": {
  "kernelspec": {
   "display_name": "Python 3 (ipykernel)",
   "language": "python",
   "name": "python3"
  },
  "language_info": {
   "codemirror_mode": {
    "name": "ipython",
    "version": 3
   },
   "file_extension": ".py",
   "mimetype": "text/x-python",
   "name": "python",
   "nbconvert_exporter": "python",
   "pygments_lexer": "ipython3",
   "version": "3.8.12"
  }
 },
 "nbformat": 4,
 "nbformat_minor": 5
}
